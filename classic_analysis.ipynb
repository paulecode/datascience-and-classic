{
 "cells": [
  {
   "attachments": {},
   "cell_type": "markdown",
   "metadata": {},
   "source": [
    "# About the dataset\n",
    "\n",
    "This dataset was parsed from the following midi files:\n",
    "\n",
    "* [Rachmaninoff Moment Musicaux, Op. 16 No. 4](https://musescore.com/user/33306646/scores/6058350)\n",
    "* [Rachmaninoff Elegie, Op. 3 No. 1](https://musescore.com/user/2660886/scores/2008481)\n",
    "* [Rachmaninoff Prelude, Op. 3 No. 2](https://musescore.com/user/2660886/scores/2101171)\n",
    "* [Bach 846 Prelude](https://musescore.com/user/37468058/scores/7108913)\n",
    "* [Bach 847 Prelude](https://musescore.com/classicman/scores/227966)\n",
    "* [Chopin Nocturne Op. 9 No. 1](https://musescore.com/user/33306646/scores/6306868)\n",
    "* [Chopin Nocturne Op. 9 No. 2](https://musescore.com/user/28966982/scores/5178145)\n",
    "* [Chopin Nocturne Op. 48 No. 1](https://musescore.com/user/33306646/scores/6224476)\n",
    "* [Chopin Nocturne Op. 55 No. 1](https://musescore.com/user/34104354/scores/6285565)\n",
    "* [Chopin Torrent Etude Op. 10 No. 4](https://musescore.com/j_y_kim/scores/5497268)\n",
    "* [Chopin Revolutionary Etude Op. 10 No. 12](https://musescore.com/user/33306646/scores/5807005)\n",
    "* [Chopin Wrong Note Etude Op. 25 No. 5](https://musescore.com/user/33306646/scores/5801576)\n",
    "* [Chopin Ocean Etude Op. 25 No. 12](https://musescore.com/user/33306646/scores/5980955)\n",
    "* [Liszt Liebestraum III, Op. 541 No. 3](https://musescore.com/user/19710/scores/65159)\n",
    "* [Liszt Grandes Etudes de Paganini - La campanella - S. 141 No. 3](https://musescore.com/user/15293341/scores/4426976)\n",
    "* [Liszt Études d’exécution transcendante - Wilde Jagd - S. 139 No. 8](https://musescore.com/user/2749876/scores/2603331)\n",
    "* [Liszt Études d’exécution transcendante - Chasse Neige - S. 139 No. 12](https://musescore.com/user/33306646/scores/6504649)\n",
    "* [Liszt Consolation No. 3](https://musescore.com/user/33306646/scores/6215465)\n",
    "\n",
    "The Dataset can be downloaded [here](https://drive.google.com/file/d/14JqILDtyah0dCda3Tlw0JqM8jfgr3Lcm/view?usp=sharing)\n",
    "\n",
    "The parser requires the following packages:\n",
    "\n",
    "* mido\n",
    "* pandas\n",
    "\n",
    "To save you some time, here is the command to run to parse all files in one command:\n",
    "\n",
    "```\n",
    "python3.9 converter.py Rachmaninoff_16_4.mid Rachmaninoff_3_2.mid Liszt-541-3.mid Rachmaninoff_3_1.mid Liszt-139-12.mid Liszt-141-3.mid Liszt_Consolation_3.mid Liszt-139-8.mid Chopin_48_1.mid Chopin_55_1.mid Chopin_25_5.mid Chopin_25_12.mid Chopin_10_4.mid Chopin_10_12.mid Bach_847_I.mid Chopin_9_1.mid Chopin_9_2.mid Bach_846_I.mid\n",
    "```"
   ]
  },
  {
   "attachments": {},
   "cell_type": "markdown",
   "metadata": {},
   "source": [
    "The following code assumes you installed the following packages:\n",
    "\n",
    "- pandas\n",
    "- matplotlilb\n",
    "- seaborn"
   ]
  },
  {
   "attachments": {},
   "cell_type": "markdown",
   "metadata": {},
   "source": [
    "# Imports"
   ]
  },
  {
   "cell_type": "code",
   "execution_count": 2,
   "metadata": {},
   "outputs": [],
   "source": [
    "import pandas as pd\n",
    "import seaborn\n",
    "import matplotlib.pyplot"
   ]
  },
  {
   "attachments": {},
   "cell_type": "markdown",
   "metadata": {},
   "source": [
    "# Function space"
   ]
  },
  {
   "cell_type": "code",
   "execution_count": 7,
   "metadata": {},
   "outputs": [],
   "source": [
    "def load_dataset(filename: str):\n",
    "    \"\"\"\n",
    "    As it would be very lengthy to import 36 files like this I decided to create a helper function\n",
    "    \"\"\"\n",
    "    return pd.read_csv(f\"output/{filename}/{filename}_note.csv\"), pd.read_csv(f\"output/{filename}/{filename}_meta.csv\")"
   ]
  },
  {
   "attachments": {},
   "cell_type": "markdown",
   "metadata": {},
   "source": [
    "# Loading the Dataset\n",
    "\n",
    "The following code block assumes that all of your CSV files are stored in the directory `output`, and in a directory with their filename, as the parser does that. If that is not the case, please adjust the helper function or put all CSV files in a folder structure as such:\n",
    "\n",
    "```\n",
    "output/\n",
    "├─ Bach_846_I/\n",
    "│  ├─ Bach_846_I_meta.csv\n",
    "│  ├─ Bach_846_I_note.csv\n",
    "├─ Bach_847_I/\n",
    "│  ├─ Bach_847_I_meta.csv\n",
    "│  ├─ Bach_847_I_note.csv\n",
    "```\n",
    "\n",
    "The naming convention is as follows:\n",
    "First letter of composer\n",
    "N for Note\n",
    "M for Meta\n",
    "Numbers smushed\n",
    "\n",
    "so Bach_846_I turns into\n",
    "\n",
    "BN846, BM846\n",
    "\n",
    "Liszt's Consolidation 3 turns into\n",
    "LN3"
   ]
  },
  {
   "cell_type": "code",
   "execution_count": 4,
   "metadata": {},
   "outputs": [],
   "source": [
    "BN846, BM846 = load_dataset('Bach_846_I')\n",
    "BN847, BM847 = load_dataset('Bach_847_I')\n",
    "CN91, CM91 = load_dataset('')\n"
   ]
  }
 ],
 "metadata": {
  "kernelspec": {
   "display_name": "Python 3",
   "language": "python",
   "name": "python3"
  },
  "language_info": {
   "codemirror_mode": {
    "name": "ipython",
    "version": 3
   },
   "file_extension": ".py",
   "mimetype": "text/x-python",
   "name": "python",
   "nbconvert_exporter": "python",
   "pygments_lexer": "ipython3",
   "version": "3.9.6"
  },
  "orig_nbformat": 4
 },
 "nbformat": 4,
 "nbformat_minor": 2
}
