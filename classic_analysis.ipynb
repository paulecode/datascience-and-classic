{
 "cells": [
  {
   "attachments": {},
   "cell_type": "markdown",
   "metadata": {},
   "source": [
    "# About the dataset\n",
    "\n",
    "[TOC] !!!Add\n",
    "\n",
    "This dataset was parsed from the following midi files:\n",
    "\n",
    "* [Rachmaninoff Moment Musicaux, Op. 16 No. 4](https://musescore.com/user/33306646/scores/6058350)\n",
    "* [Rachmaninoff Elegie, Op. 3 No. 1](https://musescore.com/user/2660886/scores/2008481)\n",
    "* [Rachmaninoff Prelude, Op. 3 No. 2](https://musescore.com/user/2660886/scores/2101171)\n",
    "* [Bach 846 Prelude](https://musescore.com/user/37468058/scores/7108913)\n",
    "* [Bach 847 Prelude](https://musescore.com/classicman/scores/227966)\n",
    "* [Chopin Nocturne Op. 9 No. 1](https://musescore.com/user/33306646/scores/6306868)\n",
    "* [Chopin Nocturne Op. 9 No. 2](https://musescore.com/user/28966982/scores/5178145)\n",
    "* [Chopin Nocturne Op. 48 No. 1](https://musescore.com/user/33306646/scores/6224476)\n",
    "* [Chopin Nocturne Op. 55 No. 1](https://musescore.com/user/34104354/scores/6285565)\n",
    "* [Chopin Torrent Etude Op. 10 No. 4](https://musescore.com/j_y_kim/scores/5497268)\n",
    "* [Chopin Revolutionary Etude Op. 10 No. 12](https://musescore.com/user/33306646/scores/5807005)\n",
    "* [Chopin Wrong Note Etude Op. 25 No. 5](https://musescore.com/user/33306646/scores/5801576)\n",
    "* [Chopin Ocean Etude Op. 25 No. 12](https://musescore.com/user/33306646/scores/5980955)\n",
    "* [Liszt Liebestraum III, Op. 541 No. 3](https://musescore.com/user/19710/scores/65159)\n",
    "* [Liszt Grandes Etudes de Paganini - La campanella - S. 141 No. 3](https://musescore.com/user/15293341/scores/4426976)\n",
    "* [Liszt Études d’exécution transcendante - Wilde Jagd - S. 139 No. 8](https://musescore.com/user/2749876/scores/2603331)\n",
    "* [Liszt Études d’exécution transcendante - Chasse Neige - S. 139 No. 12](https://musescore.com/user/33306646/scores/6504649)\n",
    "* [Liszt Consolation No. 3](https://musescore.com/user/33306646/scores/6215465)\n",
    "\n",
    "The Dataset can be downloaded [here](https://drive.google.com/drive/folders/1xsFBW0ophcb5iB42Vd8BUzVHFOxiuSeJ?usp=sharing)\n",
    "\n",
    "The parser requires the following packages:\n",
    "\n",
    "* mido\n",
    "* pandas\n",
    "\n",
    "To save you some time, here is the command to run to parse all files in one command:\n",
    "\n",
    "```\n",
    "python3.9 converter.py Rachmaninoff_16_4.mid Rachmaninoff_3_2.mid Liszt_541_3.mid Rachmaninoff_3_1.mid Liszt_139_12.mid Liszt_141_3.mid Liszt_Consolation_3.mid Liszt_139_8.mid Chopin_48_1.mid Chopin_55_1.mid Chopin_25_5.mid Chopin_25_12.mid Chopin_10_4.mid Chopin_10_12.mid Bach_847_I.mid Chopin_9_1.mid Chopin_9_2.mid Bach_846_I.mid\n",
    "```"
   ]
  },
  {
   "attachments": {},
   "cell_type": "markdown",
   "metadata": {},
   "source": [
    "# Citation Sources\n",
    "\n",
    "[[1] https://www.cs.cmu.edu/~music/cmsip/readings/MIDI%20tutorial%20for%20programmers.html](https://www.cs.cmu.edu/~music/cmsip/readings/MIDI%20tutorial%20for%20programmers.html)"
   ]
  },
  {
   "attachments": {},
   "cell_type": "markdown",
   "metadata": {},
   "source": [
    "The following code assumes you installed the following packages:\n",
    "\n",
    "- pandas\n",
    "- matplotlilb\n",
    "- seaborn"
   ]
  },
  {
   "attachments": {},
   "cell_type": "markdown",
   "metadata": {},
   "source": [
    "# Imports"
   ]
  },
  {
   "cell_type": "code",
   "execution_count": null,
   "metadata": {},
   "outputs": [],
   "source": [
    "import pandas as pd\n",
    "import seaborn as sns\n",
    "import matplotlib\n",
    "import matplotlib.pyplot as plt\n",
    "from matplotlib.pyplot import xticks\n",
    "import numpy as np\n",
    "import re\n",
    "from scipy.ndimage import gaussian_filter"
   ]
  },
  {
   "cell_type": "markdown",
   "metadata": {},
   "source": [
    "# Variable Space"
   ]
  },
  {
   "cell_type": "code",
   "execution_count": null,
   "metadata": {},
   "outputs": [],
   "source": [
    "quickload = False\n",
    "performance = True"
   ]
  },
  {
   "cell_type": "code",
   "execution_count": null,
   "metadata": {},
   "outputs": [],
   "source": [
    "composer_colors_legacy = {\n",
    "    'Bach': '#F98E76',\n",
    "    'Chopin': '#4B70CE',\n",
    "    'Liszt': '#FEE6B3',\n",
    "    'Rachmaninoff': '#95562A'\n",
    "}\n",
    "\n",
    "composer_colors = {\n",
    "    'Bach': '#F07613',\n",
    "    'Chopin': '#1A4F66',\n",
    "    'Liszt': '#879AAB',\n",
    "    'Rachmaninoff': '#E7EEF2'\n",
    "}"
   ]
  },
  {
   "cell_type": "code",
   "execution_count": null,
   "metadata": {},
   "outputs": [],
   "source": [
    "binary_colors = {\n",
    "    'Right': '#0091ff',\n",
    "    'Left': '#f0650e'\n",
    "}\n",
    "\n",
    "binary_colors_bar = {\n",
    "    'Right': '#00114D',\n",
    "    'Left': '#F77D31'\n",
    "}"
   ]
  },
  {
   "cell_type": "code",
   "execution_count": null,
   "metadata": {},
   "outputs": [],
   "source": [
    "notes_colors = {\n",
    "    21: '#1f77b4', 22: '#ff7f0e', 23: '#2ca02c', 24: '#d62728', 25: '#9467bd', 26: '#8c564b', 27: '#e377c2', 28: '#7f7f7f', 29: '#bcbd22', 30: '#17becf', 31: '#003f5c', 32: '#ffa600',\n",
    "    33: '#1f77b4', 34: '#ff7f0e', 35: '#2ca02c', 36: '#d62728', 37: '#9467bd', 38: '#8c564b', 39: '#e377c2', 40: '#7f7f7f', 41: '#bcbd22', 42: '#17becf', 43: '#003f5c', 44: '#ffa600',\n",
    "    45: '#1f77b4', 46: '#ff7f0e', 47: '#2ca02c', 48: '#d62728', 49: '#9467bd', 50: '#8c564b', 51: '#e377c2', 52: '#7f7f7f', 53: '#bcbd22', 54: '#17becf', 55: '#003f5c', 56: '#ffa600',\n",
    "    57: '#1f77b4', 58: '#ff7f0e', 59: '#2ca02c', 60: '#d62728', 61: '#9467bd', 62: '#8c564b', 63: '#e377c2', 64: '#7f7f7f', 65: '#bcbd22', 66: '#17becf', 67: '#003f5c', 68: '#ffa600',\n",
    "    69: '#1f77b4', 70: '#ff7f0e', 71: '#2ca02c', 72: '#d62728', 73: '#9467bd', 74: '#8c564b', 75: '#e377c2', 76: '#7f7f7f', 77: '#bcbd22', 78: '#17becf', 79: '#003f5c', 80: '#ffa600',\n",
    "    81: '#1f77b4', 82: '#ff7f0e', 83: '#2ca02c', 84: '#d62728', 85: '#9467bd', 86: '#8c564b', 87: '#e377c2', 88: '#7f7f7f', 89: '#bcbd22', 90: '#17becf', 91: '#003f5c', 92: '#ffa600',\n",
    "    93: '#1f77b4', 94: '#ff7f0e', 95: '#2ca02c', 96: '#d62728', 97: '#9467bd', 98: '#8c564b', 99: '#e377c2', 100: '#7f7f7f', 101: '#bcbd22', 102: '#17becf', 103: '#003f5c', 104: '#ffa600',\n",
    "    105: '#1f77b4', 106: '#ff7f0e', 107: '#2ca02c', 108: '#d62728', 109: '#9467bd',\n",
    "}"
   ]
  },
  {
   "cell_type": "code",
   "execution_count": null,
   "metadata": {},
   "outputs": [],
   "source": [
    "type_dict = {\n",
    "    \"Bach Prelude in C\": \"Prelude\",\n",
    "    \"Bach Prelude in C Minor\": \"Prelude\",\n",
    "    \"Rachmaninoff Elegie\": \"Nocturne\",\n",
    "    \"Rachmaninoff Moment Musicaux Op. 16 No. 4\": \"Etude\",\n",
    "    \"Liszt Wilde Jagd\": \"Etude\",\n",
    "    \"Liszt Chasse-Neige\": \"Etude\",\n",
    "    \"Liszt La Campanella\": \"Etude\",\n",
    "    \"Liszt Liebestraum III\": \"Nocturne\",\n",
    "    \"Liszt Consolation III\": \"Nocturne\",\n",
    "    \"Chopin Nocturne Op. 9 No. 1\": \"Nocturne\",\n",
    "    \"Chopin Nocturne Op. 9 No. 2\": \"Nocturne\",\n",
    "    \"Chopin Nocturne Op. 48 No. 1\": \"Nocturne\",\n",
    "    \"Chopin Nocturne Op. 55 No. 1\": \"Nocturne\",\n",
    "    \"Chopin Torrent Etude Op. 10 No. 4\": \"Etude\",\n",
    "    \"Chopin Revolutionary Etude Op. 10 No. 12\": \"Etude\",\n",
    "    \"Chopin Wrong Note Etude Op. 25 No. 5\": \"Etude\",\n",
    "    \"Chopin Ocean Etude Op. 25 No. 12\": \"Etude\"\n",
    "}"
   ]
  },
  {
   "attachments": {},
   "cell_type": "markdown",
   "metadata": {},
   "source": [
    "# Function space"
   ]
  },
  {
   "cell_type": "code",
   "execution_count": null,
   "metadata": {},
   "outputs": [],
   "source": [
    "def get_Note_Name_From_Midi_Number(note):\n",
    "    midi_to_note = {}\n",
    "    notes = ['A0', 'A#0', 'B0', 'C1', 'C#1', 'D1', 'D#1', 'E1', 'F1', 'F#1', 'G1', 'G#1', \n",
    "         'A1', 'A#1', 'B1', 'C2', 'C#2', 'D2', 'D#2', 'E2', 'F2', 'F#2', 'G2', 'G#2', \n",
    "         'A2', 'A#2', 'B2', 'C3', 'C#3', 'D3', 'D#3', 'E3', 'F3', 'F#3', 'G3', 'G#3', \n",
    "         'A3', 'A#3', 'B3', 'C4', 'C#4', 'D4', 'D#4', 'E4', 'F4', 'F#4', 'G4', 'G#4', \n",
    "         'A4', 'A#4', 'B4', 'C5', 'C#5', 'D5', 'D#5', 'E5', 'F5', 'F#5', 'G5', 'G#5', \n",
    "         'A5', 'A#5', 'B5', 'C6', 'C#6', 'D6', 'D#6', 'E6', 'F6', 'F#6', 'G6', 'G#6', \n",
    "         'A6', 'A#6', 'B6', 'C7', 'C#7', 'D7', 'D#7', 'E7', 'F7', 'F#7', 'G7', 'G#7', \n",
    "         'A7', 'A#7', 'B7', 'C8']\n",
    "    for i in range(21, 109):\n",
    "        midi_to_note[i] = notes[i-21]\n",
    "    return midi_to_note[note]"
   ]
  },
  {
   "cell_type": "code",
   "execution_count": null,
   "metadata": {},
   "outputs": [],
   "source": [
    "def plot_note_frequency(df, title):\n",
    "    df = df.groupby(['note'])['note'].count().reset_index(name='count').sort_values('count')\n",
    "    plt.figure(figsize=(24,9))\n",
    "    if performance == True:\n",
    "        g = sns.barplot(data=df, x='note', y='count')\n",
    "    else:\n",
    "        g = sns.barplot(data=df, x='note', y='count', hue='note', palette=notes_colors, dodge=False)\n",
    "        g.legend_.remove()\n",
    "\n",
    "    plt.suptitle('Note Frequency')\n",
    "    plt.title(title, loc='center', alpha=0.75)\n",
    "    locs, labels = xticks()\n",
    "    new_ticks = []\n",
    "    for x in labels:\n",
    "        new_ticks.append(get_Note_Name_From_Midi_Number(int(x.get_text())))\n",
    "    g.set_xticks(locs, new_ticks)\n",
    "\n",
    "    g.spines['top'].set_visible(False)\n",
    "    g.spines['right'].set_visible(False)\n",
    "    g.spines['bottom'].set_alpha(0.25)\n",
    "    g.spines['left'].set_alpha(0.25)\n",
    "\n",
    "    g.set_xlabel('Note')\n",
    "    g.set_ylabel('Count')\n",
    "    plt.grid(True, axis='y', alpha=0.25, linestyle='--')\n",
    "    return plt"
   ]
  },
  {
   "cell_type": "code",
   "execution_count": null,
   "metadata": {},
   "outputs": [],
   "source": [
    "def secondsToMinutesString(seconds):\n",
    "    m, s = divmod(int(seconds), 60)\n",
    "    return f\"{m}m{s}s\""
   ]
  },
  {
   "cell_type": "code",
   "execution_count": null,
   "metadata": {},
   "outputs": [],
   "source": [
    "def sub12(list):\n",
    "    for index, item in enumerate(list):\n",
    "        while list[index] > 33:\n",
    "            list[index] -= 12\n",
    "    return list"
   ]
  },
  {
   "cell_type": "code",
   "execution_count": null,
   "metadata": {},
   "outputs": [],
   "source": [
    "def plot_velocity(df, title):\n",
    "    plt.figure(figsize=(24,9))\n",
    "    g = sns.scatterplot(data=df, x='time', y='velocity', hue='hand', palette=binary_colors, alpha=0.4, edgecolor='none')\n",
    "    plt.title(title, loc='center')\n",
    "    plt.suptitle('Dynamics Scatterplot over time')\n",
    "\n",
    "    labels = {\n",
    "        20: 'piano-pianissimo',\n",
    "        31: 'pianissimo',\n",
    "        42: 'piano',\n",
    "        53: 'mezzo-piano',\n",
    "        64: 'mezzo-forte',\n",
    "        80: 'forte',\n",
    "        96: 'fortissimo',\n",
    "        112: 'fortissimo-forte'\n",
    "    }\n",
    "\n",
    "    for y_value, label in labels.items():\n",
    "        plt.axhline(y=y_value, linestyle='dashed', color='gray', alpha=0.1)\n",
    "        # plt.text(100, y_value+2, label, va='center', ha='left', color='gray')\n",
    "\n",
    "    plt.ylabel('Dynamic')\n",
    "    plt.xlabel('Time')\n",
    "\n",
    "    g.set_yticks(list(labels.keys()))\n",
    "    g.set_yticklabels(labels.values())\n",
    "    # plt.yticks(alpha=0.4)\n",
    "    plt.legend(title='Hand', frameon=False, loc='upper right', bbox_to_anchor=(1.1, 1))\n",
    "    plt.xlim(left=0)\n",
    "\n",
    "    g.spines['right'].set_visible(False)\n",
    "    g.spines['top'].set_visible(False)\n",
    "    g.spines['bottom'].set_alpha(0.25)\n",
    "    g.spines['left'].set_alpha(0.25)\n",
    "    plt.show()"
   ]
  },
  {
   "cell_type": "code",
   "execution_count": null,
   "metadata": {},
   "outputs": [],
   "source": [
    "def plot_notes(df, title):\n",
    "    plt.figure(figsize=(24,9))\n",
    "    g = sns.scatterplot(data=df, x='time', y='note', hue='hand', palette=binary_colors, alpha=0.4, edgecolor='none')\n",
    "    plt.suptitle(title)\n",
    "\n",
    "    labels = {\n",
    "        24: 'C1',\n",
    "        36: 'C2',\n",
    "        48: 'C3',\n",
    "        60: 'C4',\n",
    "        72: 'C5',\n",
    "        84: 'C6',\n",
    "        96: 'C7',\n",
    "        108: 'C8'\n",
    "    }\n",
    "\n",
    "    for y, label in labels.items():\n",
    "        plt.axhline(y=y, linestyle='dashed', color='gray', alpha=0.1)\n",
    "\n",
    "    g.spines['right'].set_visible(False)\n",
    "    g.spines['top'].set_visible(False)\n",
    "    g.spines['bottom'].set_alpha(0.25)\n",
    "    g.spines['left'].set_alpha(0.25)\n",
    "\n",
    "    g.set_yticks(list(labels.keys()))\n",
    "    g.set_yticklabels(list(labels.values()))\n",
    "\n",
    "    plt.legend(title='Hand', frameon=False, loc='upper right', bbox_to_anchor=(1.1, 1))\n",
    "    plt.xlabel('Time')\n",
    "    plt.ylabel('Note')\n",
    "    plt.xlim(left=0)\n",
    "    plt.yticks(alpha=0.4)\n",
    "        \n",
    "    plt.show()"
   ]
  },
  {
   "cell_type": "code",
   "execution_count": null,
   "metadata": {},
   "outputs": [],
   "source": [
    "def plot_notes_velocity_key(notes_dfs, meta_dfs, titles):\n",
    "    for note_df, meta_df, title in zip(notes_dfs, meta_dfs, titles):\n",
    "        figs, (ax1, ax2) = plt.subplots(2, figsize=(24, 9), sharex=True)\n",
    "\n",
    "        ax1 = sns.scatterplot(note_df, x='time', y='note', hue='hand', ax=ax1, palette=binary_colors, alpha=0.4)\n",
    "        ax2 = sns.scatterplot(note_df, x='time', y='velocity', hue='hand', ax=ax2, palette=binary_colors, alpha=0.4)\n",
    "        \n",
    "        ax1.vlines(x=[meta_df.loc[meta_df['key'] == \"key_signature\"]['time']], ymin=note_df['note'].min(), ymax=note_df['note'].max() + 5, linestyle='--', color='gray')\n",
    "        ax2.vlines(x=[meta_df.loc[meta_df['key'] == \"key_signature\"]['time']], ymin=note_df['note'].min(), ymax=note_df['note'].max() + 5, linestyle='--', color='gray')\n",
    "\n",
    "        dynamic_labels = {\n",
    "        20: 'piano-pianissimo',\n",
    "        31: 'pianissimo',\n",
    "        42: 'piano',\n",
    "        53: 'mezzo-piano',\n",
    "        64: 'mezzo-forte',\n",
    "        80: 'forte',\n",
    "        96: 'fortissimo',\n",
    "        112: 'fortissimo-forte'\n",
    "    }\n",
    "        for y, label in dynamic_labels.items():\n",
    "            ax2.axhline(y=y, color='gray', linestyle='--', alpha=0.25)\n",
    "        \n",
    "        ax2.set_yticks(list(dynamic_labels.keys()))\n",
    "        ax2.set_yticklabels(list(dynamic_labels.values()))\n",
    "\n",
    "        note_labels = {\n",
    "        24: 'C1',\n",
    "        36: 'C2',\n",
    "        48: 'C3',\n",
    "        60: 'C4',\n",
    "        72: 'C5',\n",
    "        84: 'C6',\n",
    "        96: 'C7',\n",
    "        108: 'C8'\n",
    "    }\n",
    "        for y, label in note_labels.items():\n",
    "            ax1.axhline(y=y, color='gray', linestyle='--', alpha=0.25)\n",
    "        \n",
    "        ax1.set_yticks(list(note_labels.keys()))\n",
    "        ax1.set_yticklabels(list(note_labels.values()))\n",
    "\n",
    "        ax1.spines['right'].set_visible(False)\n",
    "        ax1.spines['top'].set_visible(False)\n",
    "        ax1.spines['bottom'].set_visible(False)\n",
    "        ax1.spines['left'].set_alpha(0.25)\n",
    "\n",
    "        ax2.spines['right'].set_visible(False)\n",
    "        ax2.spines['top'].set_visible(False)\n",
    "        ax2.spines['bottom'].set_alpha(0.25)\n",
    "        ax2.spines['left'].set_alpha(0.25)\n",
    "\n",
    "        ax1.set_ylabel('Note')\n",
    "        ax2.set_ylabel('Dynamic')\n",
    "        ax2.set_xlabel('Time')\n",
    "\n",
    "        ax1.legend(title='Hand', loc='upper right', frameon=False, bbox_to_anchor=(1.1, 1.0))\n",
    "        ax2.legend().remove()\n",
    "        \n",
    "        figs.suptitle(title)\n",
    "        for time, value in zip(meta_df.loc[meta_df['key'] == \"key_signature\"]['time'], \n",
    "            meta_df.loc[meta_df['key'] == \"key_signature\"]['value']):\n",
    "            ax1.text(time, note_df['note'].max() + 10, value, ha='center')\n",
    "        plt.show()"
   ]
  },
  {
   "cell_type": "code",
   "execution_count": null,
   "metadata": {},
   "outputs": [],
   "source": [
    "def calculate_duration(row, df):\n",
    "    if row.velocity == 0:\n",
    "        return 0\n",
    "    else:\n",
    "        return (df.loc[(df['note'] == row.note) & (df['velocity'] == 0) & (df['time'] > row.time)].loc[df['hand'] == row.hand].iloc[0]['time'] - row.time)"
   ]
  },
  {
   "cell_type": "code",
   "execution_count": null,
   "metadata": {},
   "outputs": [],
   "source": [
    "def calculate_note_count(df):\n",
    "    return df.groupby(['hand'])['hand'].count()"
   ]
  },
  {
   "cell_type": "code",
   "execution_count": null,
   "metadata": {},
   "outputs": [],
   "source": [
    "def frame_transformer(df):\n",
    "    \"\"\"\n",
    "    This is a helper function to execute all data transformations in the beginning\n",
    "    \"\"\"\n",
    "    # df['duration'] = df.apply(lambda x: calculate_duration(x, df), axis=1)\n",
    "    df.loc[df['hand'] == 0, 'duration'] = df[df['hand'] == 0].apply(lambda x: calculate_duration(x, df), axis=1)\n",
    "    df.loc[df['hand'] == 1, 'duration'] = df[df['hand'] == 1].apply(lambda x: calculate_duration(x, df), axis=1)\n",
    "    df = df[df['velocity'] != 0]\n",
    "    df.loc[df['hand'] == 0, 'hand'] = 'Right'\n",
    "    df.loc[df['hand'] == 1, 'hand'] = 'Left'\n",
    "\n",
    "    return df"
   ]
  },
  {
   "cell_type": "code",
   "execution_count": null,
   "metadata": {},
   "outputs": [],
   "source": [
    "def load_dataset(filename: str):\n",
    "    \"\"\"\n",
    "    As it would be very lengthy to import 36 files like this I decided to create a helper function\n",
    "    \"\"\"\n",
    "    note = pd.read_csv(f\"output/{filename}/{filename}_note.csv\", usecols=['track', 'time', 'note', 'velocity'])\n",
    "    meta = pd.read_csv(f\"output/{filename}/{filename}_meta.csv\")\n",
    "    note.columns = ['hand', 'time', 'note', 'velocity']\n",
    "    meta.columns = ['hand', 'time', 'key', 'value']\n",
    "    note = frame_transformer(note)\n",
    "    return note, meta"
   ]
  },
  {
   "cell_type": "code",
   "execution_count": null,
   "metadata": {},
   "outputs": [],
   "source": [
    "def plot_chord_span(titles, note_dict):\n",
    "    for title in titles:\n",
    "        df = note_dict[title]\n",
    "        df = df.groupby(['hand', 'time'])['note'].apply(list).apply(sorted)\n",
    "        df = df[df.apply(len) > 1]\n",
    "        if len(df) > 0:\n",
    "            plt.figure(figsize=(8, 6))\n",
    "            plt.title(title)\n",
    "            plt.suptitle('Chord Span')\n",
    "\n",
    "            df = df.apply(lambda x: x[-1] - x[0])\n",
    "            df = df.reset_index(name='span')\n",
    "            g = sns.countplot(data=df, x='span', hue='hand', palette=binary_colors_bar, hue_order=['Left', 'Right'], edgecolor='gray', linewidth=0.25)\n",
    "            \n",
    "            plt.grid(True, axis='y', alpha=0.25, linestyle='--')\n",
    "            g.set(xlabel='Span', ylabel='Count')\n",
    "            g.legend(title='Hand', frameon=False, bbox_to_anchor=(1.1, 1.0), loc='upper right')\n",
    "            plt.ylim(0, 600)\n",
    "\n",
    "            g.spines['top'].set_visible(False)\n",
    "            g.spines['right'].set_visible(False)\n",
    "            g.spines['left'].set_alpha(0.25)\n",
    "            g.spines['bottom'].set_alpha(0.25)\n",
    "\n",
    "            plt.tight_layout()\n",
    "            plt.show()"
   ]
  },
  {
   "cell_type": "code",
   "execution_count": null,
   "metadata": {},
   "outputs": [],
   "source": [
    "def plot_notes_per_hand(df):\n",
    "    notes_per_hand_df = df.groupby(['Piece Name', 'hand'])['hand'].count().reset_index(name='count')\n",
    "    plt.figure(figsize=(24,9))\n",
    "    plt.suptitle('Note Count per hand')\n",
    "    g = sns.barplot(data=notes_per_hand_df, x='Piece Name', y='count', hue='hand', palette=binary_colors_bar, edgecolor='none')\n",
    "    g.set_xticklabels(g.get_xticklabels(), rotation=90)\n",
    "    g.set_ylabel('Count')\n",
    "    g.set_xlabel(None)\n",
    "    plt.grid(True, axis='y', alpha=0.5, linestyle='--')\n",
    "    g.legend(title='Hand', frameon=False, bbox_to_anchor=(1.1, 1), loc='upper left')\n",
    "    g.spines['top'].set_visible(False)\n",
    "    g.spines['right'].set_visible(False)\n",
    "\n",
    "    g.spines['bottom'].set_alpha(0.25)\n",
    "    g.spines['left'].set_alpha(0.25)\n",
    "\n",
    "    plt.show()"
   ]
  },
  {
   "cell_type": "code",
   "execution_count": null,
   "metadata": {},
   "outputs": [],
   "source": [
    "def plot_notes_per_hand_norm(df):\n",
    "    notes_per_hand_df = df.groupby(['Piece Name', 'hand'])['time'].nunique().reset_index(name='count')\n",
    "    plt.figure(figsize=(24,9))\n",
    "    g = sns.barplot(data=notes_per_hand_df, x='Piece Name', y='count', hue='hand', palette=binary_colors_bar)\n",
    "    g.set_xticklabels(g.get_xticklabels(), rotation=90)\n",
    "    g.set_ylabel('Count')\n",
    "    g.set_xlabel(None)\n",
    "    plt.grid(True, axis='y', alpha=0.5, linestyle='--')\n",
    "    g.legend(title='Hand', frameon=False, bbox_to_anchor=(1.1, 1.0), loc='upper left')\n",
    "    g.spines['top'].set_visible(False)\n",
    "    g.spines['right'].set_visible(False)\n",
    "\n",
    "    g.spines['bottom'].set_alpha(0.25)\n",
    "    g.spines['left'].set_alpha(0.25)\n",
    "    plt.show()"
   ]
  },
  {
   "cell_type": "code",
   "execution_count": null,
   "metadata": {},
   "outputs": [],
   "source": [
    "def plot_overall_notes(df):\n",
    "    notes_total_df = df.groupby(['Piece Name'])['note'].count().reset_index(name='count').sort_values('count')\n",
    "    notes_total_df['Composer'] = notes_total_df['Piece Name'].str.split(' ').str[0]\n",
    "\n",
    "    plt.figure(figsize=(24,9))\n",
    "    plt.grid(axis='y', alpha=0.5, linestyle='--')\n",
    "    plt.suptitle('Number of Notes per Piece')\n",
    "    g = sns.barplot(data=notes_total_df, x='Piece Name', y='count', hue='Composer', palette=composer_colors, dodge=False, width=0.75, edgecolor='gray', linewidth=0.25)\n",
    "    g.set_xticklabels(g.get_xticklabels(), rotation=90)\n",
    "    g.set_ylabel('Number of Notes')\n",
    "    g.set_xlabel(None)\n",
    "\n",
    "    g.spines['top'].set_visible(False)\n",
    "    g.spines['right'].set_visible(False)\n",
    "    g.spines['bottom'].set_alpha(0.25)\n",
    "    g.spines['left'].set_alpha(0.25)\n",
    "\n",
    "    g.legend(loc='upper right', bbox_to_anchor=(1.1, 1.0), frameon=False)\n",
    "    plt.show()"
   ]
  },
  {
   "cell_type": "code",
   "execution_count": null,
   "metadata": {},
   "outputs": [],
   "source": [
    "def plot_mean_velocity_bar(df):\n",
    "    velocity_average_df = df.groupby(['Piece Name'])['velocity'].mean().reset_index(name='mean').sort_values('mean', ascending=False)\n",
    "    plt.figure(figsize=(24,9))\n",
    "    g = sns.barplot(data=velocity_average_df, x='Piece Name', y='mean', palette='Spectral', alpha=0.75, edgecolor='lightgray')\n",
    "    \n",
    "\n",
    "    labels = {\n",
    "        20: 'piano-pianissimo',\n",
    "        31: 'pianissimo',\n",
    "        42: 'piano',\n",
    "        53: 'mezzo-piano',\n",
    "        64: 'mezzo-forte',\n",
    "        80: 'forte',\n",
    "        96: 'fortissimo',\n",
    "        112: 'fortissimo-forte'\n",
    "    }\n",
    "\n",
    "    for y_value, label in labels.items():\n",
    "        plt.axhline(y=y_value, linestyle='dashed', color='gray', alpha=0.1)\n",
    "        # plt.text(100, y_value+2, label, va='center', ha='left', color='gray')\n",
    "\n",
    "    g.set_yticks(list(labels.keys()))\n",
    "    g.set_yticklabels(labels.values())\n",
    "\n",
    "    g.set_xticklabels(g.get_xticklabels(), rotation=90)\n",
    "    g.set_ylabel(None)\n",
    "    g.set_xlabel(None)\n",
    "\n",
    "    g.spines['top'].set_visible(False)\n",
    "    g.spines['right'].set_visible(False)\n",
    "    g.spines['bottom'].set_alpha(0.25)\n",
    "    g.spines['left'].set_alpha(0.25)\n",
    "\n",
    "    plt.suptitle('Mean Volume by Piece')\n",
    "    plt.show()"
   ]
  },
  {
   "cell_type": "code",
   "execution_count": null,
   "metadata": {},
   "outputs": [],
   "source": [
    "def plot_boxplot_velocity(df):\n",
    "    plt.figure(figsize=(24,9))\n",
    "    g = sns.boxplot(data=df.reset_index(), x='Piece Name', y='velocity', palette='Spectral')\n",
    "    g.set_xticklabels(g.get_xticklabels(), rotation=90)\n",
    "\n",
    "    labels = {\n",
    "        20: 'piano-pianissimo',\n",
    "        31: 'pianissimo',\n",
    "        42: 'piano',\n",
    "        53: 'mezzo-piano',\n",
    "        64: 'mezzo-forte',\n",
    "        80: 'forte',\n",
    "        96: 'fortissimo',\n",
    "        112: 'fortissimo-forte'\n",
    "    }\n",
    "\n",
    "    for y_value, label in labels.items():\n",
    "        plt.axhline(y=y_value, linestyle='dashed', color='gray', alpha=0.1)\n",
    "        # plt.text(100, y_value+2, label, va='center', ha='left', color='gray')\n",
    "\n",
    "    g.set_yticks(list(labels.keys()))\n",
    "    g.set_yticklabels(labels.values())\n",
    "\n",
    "    g.set_ylabel(None)\n",
    "    g.set_xlabel(None)\n",
    "\n",
    "    g.spines['top'].set_visible(False)\n",
    "    g.spines['right'].set_visible(False)\n",
    "    g.spines['bottom'].set_alpha(0.25)\n",
    "    g.spines['left'].set_alpha(0.25)\n",
    "\n",
    "    plt.suptitle('Mean Volume by Piece')\n",
    "    plt.show()"
   ]
  },
  {
   "cell_type": "code",
   "execution_count": null,
   "metadata": {},
   "outputs": [],
   "source": [
    "def plot_stripplot_velocity(df):\n",
    "    plt.figure(figsize=(24,9))\n",
    "    g = sns.stripplot(data=df.reset_index(), x='Piece Name', y='velocity', jitter=0.1, size=2.5)\n",
    "    g.set_xticklabels(g.get_xticklabels(), rotation=90)\n",
    "    plt.show()"
   ]
  },
  {
   "cell_type": "code",
   "execution_count": null,
   "metadata": {},
   "outputs": [],
   "source": [
    "def plot_notes_in_chords(titles, note_dict):\n",
    "    for title in titles:\n",
    "        df = note_dict[title]\n",
    "        df = df.groupby(['hand', 'time'])['note'].apply(list)\n",
    "        df = df[df.apply(len) > 1]\n",
    "        if len(df) > 0:\n",
    "            plt.figure(figsize=(8, 6))\n",
    "            plt.suptitle('Number of chords with n notes')\n",
    "            plt.title(title)\n",
    "            \n",
    "            df = df.apply(lambda x: len(x))\n",
    "            df = df.reset_index(name='size')\n",
    "            g = sns.countplot(data=df, x='size', hue='hand', palette=binary_colors_bar)\n",
    "            \n",
    "            g.spines['top'].set_visible(False)\n",
    "            g.spines['right'].set_visible(False)\n",
    "            g.spines['left'].set_alpha(0.25)\n",
    "            g.spines['bottom'].set_alpha(0.25)\n",
    "\n",
    "            g.set_xlabel('Number of notes in chord')\n",
    "            g.set_ylabel('Count')\n",
    "            g.legend(title='Hand', frameon=False, bbox_to_anchor=(1.1, 1.0), loc='upper right')\n",
    "            plt.grid(True, axis='y', alpha=0.25, linestyle='--')\n",
    "\n",
    "            plt.tight_layout()\n",
    "            plt.show()"
   ]
  },
  {
   "cell_type": "code",
   "execution_count": null,
   "metadata": {},
   "outputs": [],
   "source": [
    "def plot_chord_size_span(titles, note_dict):\n",
    "    for title in titles:\n",
    "        df = note_dict[title]\n",
    "        df = df.groupby(['hand', 'time'])['note'].apply(list).apply(sorted).reset_index(name='notes')\n",
    "        df['span'] = df['notes'].apply(lambda x: x[-1] - x[0])\n",
    "        df = df[df['notes'].apply(len) > 1]\n",
    "        df['size'] = df['notes'].apply(lambda x: len(x))\n",
    "        df = df[(df['span'] > 0) & (df['size'] > 0)]\n",
    "        if len(df) > 0:\n",
    "            df['size'] = df['size'].apply(lambda x: x + np.random.uniform(-0.1, 0.1))\n",
    "            df['span'] = df['span'].apply(lambda x: x + np.random.uniform(-0.4, 0.4))\n",
    "            \n",
    "            g = sns.jointplot(\n",
    "                data=df,\n",
    "                x='size',\n",
    "                y='span',\n",
    "                hue='hand',\n",
    "                alpha=0.5,\n",
    "                s=10,\n",
    "                xlim=(0, 10),\n",
    "                ylim=(0, 20),\n",
    "                palette=binary_colors_bar,\n",
    "                height=8)\n",
    "            \n",
    "            plt.suptitle('Chord Span vs  Number of Notes')\n",
    "            plt.title(title)\n",
    "\n",
    "            g.set_axis_labels('Number of Notes', 'Chord Span')\n",
    "\n",
    "            g.fig.axes[0].spines['top'].set_visible(False)\n",
    "            g.fig.axes[0].spines['right'].set_visible(False)\n",
    "            g.fig.axes[0].spines['bottom'].set_alpha(0.25)\n",
    "            g.fig.axes[0].spines['left'].set_alpha(0.25)\n",
    "\n",
    "            g.fig.axes[0].legend().set_visible(False)\n",
    "            g.fig.legend(title='Hand', frameon=False, bbox_to_anchor=(1.1, 1.0), loc='upper right')\n",
    "\n",
    "            # g.fig.axes[1].spines[:].set_alpha(0.25)\n",
    "            plt.tight_layout()\n",
    "            plt.show()"
   ]
  },
  {
   "cell_type": "code",
   "execution_count": null,
   "metadata": {},
   "outputs": [],
   "source": [
    "def plot_note_frequency_heatmap(note_dict, titles):\n",
    "    for title in titles:\n",
    "        plt.figure(figsize=(24,6))\n",
    "        plt.suptitle(title)\n",
    "        plt.tight_layout()\n",
    "        df = note_dict[title]\n",
    "        df = df.groupby(['note'])['note'].count().reset_index(name='count').sort_values('note')\n",
    "        sns.heatmap(df['count'].values.reshape(1, -1), annot=False, vmin=21, vmax=109, xticklabels=df['note'].values, yticklabels=False, cmap='Greys')\n",
    "        plt.show()"
   ]
  },
  {
   "cell_type": "code",
   "execution_count": null,
   "metadata": {},
   "outputs": [],
   "source": [
    "def plot_chord_size_span_all(note_df):\n",
    "\n",
    "    df = note_df\n",
    "    df = df.groupby(['Piece Name', 'hand', 'time'])['note'].apply(list).apply(sorted).reset_index(name='notes')\n",
    "\n",
    "    df['span'] = df['notes'].apply(lambda x: x[-1] - x[0])\n",
    "    df['size'] = df['notes'].apply(lambda x: len(x))\n",
    "\n",
    "    df = df[(df['span'] > 0) & (df['size'] > 1)]\n",
    "\n",
    "    df['composer'] = df['Piece Name'].str.split(' ').str[0]\n",
    "    df['Piece Name'] = df['Piece Name'].str.split(' ').str[1:].str.join(' ')\n",
    "\n",
    "    df = df.groupby(['Piece Name', 'composer'])[['span', 'size']].mean().reset_index()\n",
    "\n",
    "    def labelplot(x, y, text):\n",
    "        ax.text(x-0.01, y+0.1, text)\n",
    "\n",
    "    fig = plt.figure(figsize=(8,6))\n",
    "\n",
    "    ax = sns.scatterplot(data=df, x='size', y='span', hue='composer', s=100, palette=composer_colors)\n",
    "    \n",
    "    ax.set_xlabel('Number of Notes in Chord')\n",
    "    ax.set_ylabel('Chord Span')\n",
    "\n",
    "    plt.suptitle('Number of Notes in Chord vs. Chord Span')\n",
    "    ax.legend(title=\"Composer\", frameon=False)\n",
    "    ax.spines['right'].set_visible(False)\n",
    "    ax.spines['top'].set_visible(False)\n",
    "    ax.spines['left'].set_alpha(0.25)\n",
    "    ax.spines['bottom'].set_alpha(0.25)\n",
    "\n",
    "    df.apply(lambda x: labelplot(x['size'], x['span'], x['Piece Name']), axis=1)\n",
    "    plt.tight_layout()\n",
    "    plt.show()"
   ]
  },
  {
   "cell_type": "code",
   "execution_count": null,
   "metadata": {},
   "outputs": [],
   "source": [
    "def plot_notes_reg(note_dict, title_set):\n",
    "    for title in title_set:\n",
    "        df = note_dict[title]\n",
    "        g = sns.lmplot(data=df, x='time', y='note', hue='hand', palette=binary_colors, scatter_kws={'s': 10, 'alpha': 0.4})\n",
    "        g.fig.suptitle(title)\n",
    "        g.fig.tight_layout()\n",
    "\n",
    "        labels = {\n",
    "            24: 'C1',\n",
    "            36: 'C2',\n",
    "            48: 'C3',\n",
    "            60: 'C4',\n",
    "            72: 'C5',\n",
    "            84: 'C6',\n",
    "            96: 'C7',\n",
    "            108: 'C8'\n",
    "        }\n",
    "\n",
    "        for y, label in labels.items():\n",
    "            plt.axhline(y=y, linestyle='dashed', color='gray', alpha=0.1)\n",
    "\n",
    "        g.fig.axes[0].set_yticks(list(labels.keys()))\n",
    "        g.fig.axes[0].set_yticklabels(list(labels.values()))\n",
    "\n",
    "        g.fig.axes[0].set_xlabel('Time')\n",
    "        g.fig.axes[0].set_ylabel('Note')\n",
    "\n",
    "        g.fig.axes[0].spines['top'].set_visible(False)\n",
    "        g.fig.axes[0].spines['right'].set_visible(False)\n",
    "        g.fig.axes[0].spines['bottom'].set_alpha(0.25)\n",
    "        g.fig.axes[0].spines['left'].set_alpha(0.25)\n",
    "\n",
    "        g.legend.set_title('Hand')\n",
    "\n",
    "        g.figure.set_size_inches(18, 9)"
   ]
  },
  {
   "cell_type": "code",
   "execution_count": null,
   "metadata": {},
   "outputs": [],
   "source": [
    "def plot_notes_with_dur(note_dict, title_set):\n",
    "    if performance == True:\n",
    "        return None\n",
    "    for title in title_set:\n",
    "        df = note_dict[title]\n",
    "        fig, ax = plt.subplots(figsize=(24, 6))\n",
    "\n",
    "        for index, row in df.iterrows():\n",
    "            # color = 'orange' if row['hand'] == 'Right' else 'blue'\n",
    "            if row['hand'] == \"Right\":\n",
    "                ax.broken_barh([(row['time'], row['duration'])], (row['note'] - 0.5, 1), facecolors='orange', alpha=0.75, linewidth=1)\n",
    "            else:\n",
    "                ax.broken_barh([(row['time'], row['duration'])], (row['note'] - 0.5, 1), facecolors='blue', edgecolors='black', alpha=0.1, linewidth=1)\n",
    "\n",
    "        ax.set_xlabel('Time')\n",
    "        ax.set_ylabel('Note')\n",
    "        ax.set_title('Notes Played over Time')\n",
    "\n",
    "        ax.set_yticks(df['note'])\n",
    "        ax.set_yticklabels(get_Note_Name_From_Midi_Number(i) for i in df['note'])\n",
    "\n",
    "        fig.suptitle(title)\n",
    "\n",
    "        plt.tight_layout()\n",
    "        plt.show()"
   ]
  },
  {
   "cell_type": "code",
   "execution_count": null,
   "metadata": {},
   "outputs": [],
   "source": [
    "def getDistances(list):\n",
    "    abstand = []\n",
    "    lastitem = list[0]\n",
    "    for item in list:\n",
    "        abstand.append(item - lastitem)\n",
    "        lastitem = item\n",
    "    return abstand[1:]"
   ]
  },
  {
   "cell_type": "code",
   "execution_count": null,
   "metadata": {},
   "outputs": [],
   "source": [
    "def match_list_with_sub_list(main_list, sub_list):\n",
    "    while len(main_list) == len(sub_list):\n",
    "        main_list += main_list\n",
    "    for index, item in enumerate(main_list):\n",
    "        for sub_index, sub_item in enumerate(sub_list):\n",
    "            if index + sub_index >= len(main_list):\n",
    "                return False\n",
    "            if sub_item == main_list[index + sub_index]:\n",
    "                if sub_index == len(sub_list) - 1:\n",
    "                    return True\n",
    "            else:\n",
    "                break\n",
    "    return False"
   ]
  },
  {
   "cell_type": "code",
   "execution_count": null,
   "metadata": {},
   "outputs": [],
   "source": [
    "def findChord(distance_array):\n",
    "    if len(distance_array) == 0:\n",
    "        return \"Single Note\"\n",
    "    elif distance_array[0] == 12:\n",
    "        return \"Octave\"\n",
    "    elif len(distance_array) == 1:\n",
    "        return None\n",
    "    elif match_list_with_sub_list([4, 3, 5], distance_array):\n",
    "        return \"Major\"\n",
    "    elif match_list_with_sub_list([3, 4, 5], distance_array):\n",
    "        return \"Minor\"\n",
    "    elif match_list_with_sub_list([4, 3, 3, 2], distance_array):\n",
    "        return \"Dominant 7th\"\n",
    "    elif match_list_with_sub_list([4, 3, 4, 1], distance_array):\n",
    "        return \"Major 7th\"\n",
    "    elif match_list_with_sub_list([3, 4, 3, 2], distance_array):\n",
    "        return \"Minor 7th\"\n",
    "    elif match_list_with_sub_list([3, 3, 6], distance_array):\n",
    "        return \"Diminished\"\n",
    "    elif match_list_with_sub_list([3, 3, 3, 3], distance_array):\n",
    "        return \"Diminished 7th\"\n",
    "    elif match_list_with_sub_list([4, 4, 4], distance_array):\n",
    "        return \"Augmented\""
   ]
  },
  {
   "cell_type": "code",
   "execution_count": null,
   "metadata": {},
   "outputs": [],
   "source": [
    "def plot_chords(note_dict, title_set):\n",
    "    for title in title_set:\n",
    "        df = note_dict[title]\n",
    "        df = df.groupby(['hand', 'time'])['note'].apply(list).apply(sorted).reset_index()\n",
    "        df['distances'] = df['note'].apply(getDistances)\n",
    "        df['chord'] = df['distances'].apply(findChord)\n",
    "\n",
    "        df = df[df['chord'] != \"Single Note\"]\n",
    "        df = df[df['chord'] != \"Octave\"]\n",
    "\n",
    "        chord_label = {\n",
    "            'Major': '#1f77b4',\n",
    "            'Minor': '#ff7f0e',\n",
    "            'Dominant 7th': '#2ca02c',\n",
    "            'Major 7th': '#d62728',\n",
    "            'Minor 7th': '#9467bd',\n",
    "            'Diminished': '#8c564b',\n",
    "            'Diminished 7th': '#e377c2',\n",
    "            'Augmented': '#7f7f7f'\n",
    "        }\n",
    "\n",
    "        if len(df) == 0:\n",
    "            print(f\"{title} has no chords\")\n",
    "            continue\n",
    "        # fig = plt.figure(figsize=(8,8))\n",
    "        # g = plt.pie(df['chord'].value_counts(), labels=df['chord'].value_counts().index, autopct='%1.1f%%', pctdistance=0.85, labeldistance=1.1)\n",
    "\n",
    "        fig = plt.figure(figsize=(8,6))\n",
    "\n",
    "        g = sns.countplot(data=df.sort_values('chord', ascending=True), x='chord', hue='chord', palette=chord_label, dodge=False)\n",
    "\n",
    "        g.spines['right'].set_visible(False)\n",
    "        g.spines['top'].set_visible(False)\n",
    "        g.spines['left'].set_alpha(0.25)\n",
    "        g.spines['bottom'].set_alpha(0.25)\n",
    "\n",
    "        g.legend().set_visible(False)\n",
    "        g.set_ylabel('Count')\n",
    "        g.set_xlabel(None)\n",
    "        plt.grid(axis='y', alpha=0.25, linestyle='--')\n",
    "        fig.suptitle(title)\n",
    "        plt.tight_layout()\n",
    "        plt.show()\n",
    "        # fig = plt.figure(figsize=(24,16))\n",
    "        # df = df[df['chord'] != \"Single Note\"]\n",
    "        # g = sns.scatterplot(data=df, x='time', y='chord', hue='hand')\n",
    "\n",
    "        # df = df[df['chord'] != \"Octave\"]\n",
    "        # fig = plt.figure(figsize=(24,16))\n",
    "        # g = sns.lineplot(data=df, x='time', y='chord', hue='hand')"
   ]
  },
  {
   "cell_type": "code",
   "execution_count": null,
   "metadata": {},
   "outputs": [],
   "source": [
    "def plot_chords_per_composer(note_df):\n",
    "    df = note_df.copy()\n",
    "\n",
    "    df = df.groupby(['Piece Name', 'hand', 'time'])['note'].apply(list).apply(sorted).reset_index()\n",
    "\n",
    "    df['distances'] = df['note'].apply(getDistances)\n",
    "    df['chord'] = df['distances'].apply(findChord)\n",
    "\n",
    "    df = df[df['chord'] != \"Single Note\"]\n",
    "    df = df[df['chord'] != \"Octave\"]\n",
    "\n",
    "    df['composer'] = df['Piece Name'].str.split(' ').str[0]\n",
    "\n",
    "    df = df.groupby(['composer', 'chord'])['chord'].count().reset_index(name='count')\n",
    "    df = df.groupby(['composer'])['count'].sum().reset_index(name='sum').merge(df, on='composer', how='left')\n",
    "\n",
    "    df['normalized'] = df['count'] / df['sum']\n",
    "\n",
    "    fig = plt.figure(figsize=(24,16))\n",
    "    g = sns.barplot(data=df, x='chord', y='normalized', hue='composer', palette=composer_colors, linewidth=0.5, edgecolor='gray')\n",
    "    g.set_title(\"Chords per Composer\")\n",
    "    g.set_xlabel(\"Chord\")\n",
    "    g.set_ylabel(\"Normalized Count\")\n",
    "    g.legend(loc='upper left', frameon=False, title=\"Composer\")\n",
    "    g.spines['top'].set_visible(False)\n",
    "    g.spines['right'].set_visible(False)\n",
    "    g.spines[['left', 'bottom']].set_alpha(0.25)\n",
    "    plt.grid(axis='y', alpha=0.25, linestyle='--')\n",
    "\n",
    "    plt.tight_layout()\n",
    "    plt.show()"
   ]
  },
  {
   "cell_type": "code",
   "execution_count": null,
   "metadata": {},
   "outputs": [],
   "source": [
    "def plot_composer_per_chord(note_df):\n",
    "    df = note_df.copy()\n",
    "\n",
    "    df = df.groupby(['Piece Name', 'hand', 'time'])['note'].apply(list).apply(sorted).reset_index()\n",
    "\n",
    "    df['distances'] = df['note'].apply(getDistances)\n",
    "    df['chord'] = df['distances'].apply(findChord)\n",
    "\n",
    "    df = df[df['chord'] != \"Single Note\"]\n",
    "    df = df[df['chord'] != \"Octave\"]\n",
    "\n",
    "    chord_label = {\n",
    "            'Major': '#1f77b4',\n",
    "            'Minor': '#ff7f0e',\n",
    "            'Dominant 7th': '#2ca02c',\n",
    "            'Major 7th': '#d62728',\n",
    "            'Minor 7th': '#9467bd',\n",
    "            'Diminished': '#8c564b',\n",
    "            'Diminished 7th': '#e377c2',\n",
    "            'Augmented': '#7f7f7f'\n",
    "        }\n",
    "    \n",
    "    df['composer'] = df['Piece Name'].str.split(' ').str[0]\n",
    "\n",
    "    df = df.groupby(['composer', 'chord'])['chord'].count().reset_index(name='count')\n",
    "    df = df.groupby(['composer'])['count'].sum().reset_index(name='sum').merge(df, on='composer', how='left')\n",
    "\n",
    "    df['normalized'] = df['count'] / df['sum']\n",
    "\n",
    "    fig = plt.figure(figsize=(24,16))\n",
    "    g = sns.barplot(data=df, x='composer', y='normalized', hue='chord', palette=chord_label, linewidth=0.5, edgecolor='black', alpha=0.9)\n",
    "    g.set_title(\"Composer per Chord\")\n",
    "    g.set_xlabel(\"Composer\")\n",
    "    g.set_ylabel(\"Normalized Count\")\n",
    "    g.legend(loc='upper left', frameon=False, title=\"Chord\")\n",
    "    g.spines['top'].set_visible(False)\n",
    "    g.spines['right'].set_visible(False)\n",
    "    g.spines[['left', 'bottom']].set_alpha(0.25)\n",
    "    plt.grid(axis='y', alpha=0.25, linestyle='--')\n",
    "    plt.tight_layout()\n",
    "    plt.show()"
   ]
  },
  {
   "cell_type": "code",
   "execution_count": null,
   "metadata": {},
   "outputs": [],
   "source": [
    "def plot_velocity_heatmap(note_dict, title_set):\n",
    "    for title in title_set:\n",
    "        df = note_dict[title]\n",
    "        figs, ax = plt.subplots(2, 2, figsize=(24, 9), sharex=False, gridspec_kw={'width_ratios':[100,2.5]})\n",
    "\n",
    "        ax[0,0].set_xlim(0, df['time'].max())\n",
    "        ax[1,0].set_xlim(0, df['time'].max())\n",
    "\n",
    "        custom_palette = sns.diverging_palette(23, 206, s=95, l=50, n=256)\n",
    "\n",
    "        labels = {\n",
    "            24: 'C1',\n",
    "            36: 'C2',\n",
    "            48: 'C3',\n",
    "            60: 'C4',\n",
    "            72: 'C5',\n",
    "            84: 'C6',\n",
    "            96: 'C7',\n",
    "            108: 'C8'\n",
    "        }\n",
    "\n",
    "        for y, label in labels.items():\n",
    "            plt.axhline(y=y, linestyle='dashed', color='gray', alpha=0.1)\n",
    "\n",
    "        plt.figure(figsize=(24,6))\n",
    "        ax[0,0].set_title(title)\n",
    "        ax[0,0].set_xlabel('Time')\n",
    "        ax[0,0].set_ylabel('Note')\n",
    "        ax[0,0].spines['right'].set_visible(False)\n",
    "        ax[0,0].spines['top'].set_visible(False)\n",
    "        ax[0,0].spines['left'].set_alpha(0.25)\n",
    "        ax[0,0].spines['bottom'].set_alpha(0.25)\n",
    "        ax[0,0].set_yticks(list(labels.keys()))\n",
    "        ax[0,0].set_yticklabels(list(labels.values()))\n",
    "        ax[0,0].grid(axis='y', alpha=0.25)\n",
    "        figs.suptitle('Volume Heatmap')\n",
    "        plt.tight_layout()\n",
    "        ax[0,0] = sns.scatterplot(data=df, x='time', y='note', hue='hand', ax=ax[0,0], palette=binary_colors, alpha=0.4)\n",
    "        df = df.groupby(['time'])['velocity'].mean().reset_index(name='velocity')\n",
    "        df = gaussian_filter(df['velocity'], sigma=5)\n",
    "        ax[1,0] = sns.heatmap(data=df.reshape(1, -1), annot=False, vmin=0, vmax=127, xticklabels=False, yticklabels=False, ax=ax[1,0], cbar=True, cbar_kws={'label': 'Volume', 'location': 'left'}, cbar_ax=ax[1,1], square=False)\n",
    "        ax[0,1].remove()\n",
    "        ax[0,0].legend(title='Hand', frameon=False, loc='upper right', bbox_to_anchor=(1.1, 1.0))\n",
    "        plt.tight_layout()\n",
    "        plt.show()"
   ]
  },
  {
   "cell_type": "code",
   "execution_count": null,
   "metadata": {},
   "outputs": [],
   "source": [
    "def getLengthFrame(note_df, meta_df):\n",
    "    notetime_df = note_df.groupby(['Piece Name', 'hand', 'time'])['duration'].max().reset_index()\n",
    "    notetime_df.sort_values(['Piece Name', 'time'], inplace=True)\n",
    "\n",
    "    bpm_df = meta_df.loc[meta_df['key'] == 'set_tempo', ['time', 'value']]\n",
    "    bpm_df.sort_values(['Piece Name', 'time'], inplace=True)\n",
    "    bpm_df.reset_index(inplace=True)\n",
    "    bpm_df.drop('Meta', axis=1, inplace=True)\n",
    "\n",
    "    # This would make this notebook more modular,\n",
    "    # but since every file I use has a ticks per beat value of 480,\n",
    "    # I will not use this and use the value directly.\n",
    "    ticks_dict = meta_df[meta_df['key'] == 'ticks_per_beat'].reset_index().drop('Meta', axis=1)[['Piece Name', 'value']].set_index('Piece Name').to_dict()['value']\n",
    "\n",
    "    merge = pd.merge_asof(notetime_df.sort_values('time'), bpm_df.sort_values('time'), on='time', by='Piece Name', direction='backward')\n",
    "\n",
    "    merge.columns=['Piece Name', 'hand', 'time', 'duration', 'microseconds per quarter note']\n",
    "    merge['microseconds per quarter note'].fillna(500000, inplace=True)\n",
    "\n",
    "    denominator_df = meta_df[meta_df['key'] == 'time_signature_denominator']\n",
    "    merge = pd.merge_asof(merge, denominator_df.sort_values('time')[['time', 'value']], on='time', by='Piece Name')\n",
    "    merge.columns=['Piece Name', 'hand', 'time', 'duration', 'microseconds per quarter note', 'denominator']\n",
    "    merge.sort_values(by=['Piece Name', 'hand', 'time'], inplace=True)\n",
    "\n",
    "    merge['denominator'] = merge['denominator'].astype(int)\n",
    "    merge['denominator'] = merge['denominator'] / 4\n",
    "\n",
    "    merge.sort_values(by=['Piece Name', 'time'], inplace=True)\n",
    "    merge['time diff'] = merge.groupby(['Piece Name'])['time'].diff()\n",
    "    merge['time diff'].fillna(0, inplace=True)\n",
    "\n",
    "    # merge['microseconds per beat'] = merge['microseconds per quarter note'].astype(int)\n",
    "    merge['note multiplier'] = merge['time diff'] / 480\n",
    "    merge['duration in seconds'] = (merge['note multiplier'] * merge['microseconds per quarter note'].astype(int)) / 1_000_000\n",
    "\n",
    "    length_df = merge.groupby(['Piece Name'])['duration in seconds'].sum(numeric_only=True).reset_index().sort_values(by='duration in seconds')\n",
    "    length_df['duration as string'] = length_df['duration in seconds'].apply(secondsToMinutesString)\n",
    "    return length_df"
   ]
  },
  {
   "cell_type": "code",
   "execution_count": null,
   "metadata": {},
   "outputs": [],
   "source": [
    "def plot_duration_bar(note_df, meta_df):\n",
    "    df = getLengthFrame(note_df, meta_df)\n",
    "    df['composer'] = df['Piece Name'].apply(lambda x: x.split(' ')[0])\n",
    "    fig = plt.figure(figsize=(24,9))\n",
    "    plt.grid(True, axis='x', linestyle='--', alpha=0.5)\n",
    "\n",
    "    g = sns.barplot(data=df, y='Piece Name', x='duration in seconds', hue='composer', palette=composer_colors, dodge=False, orient='h')\n",
    "\n",
    "    g.legend(title='Composer', loc=1, frameon=False, bbox_to_anchor=(1.1, 1.0))\n",
    "    fig.suptitle('Duration of Pieces')\n",
    "\n",
    "    g.set_ylabel(None)\n",
    "    g.set_xlabel('Duration in seconds')\n",
    "\n",
    "    minutes = [60, 120, 180, 240, 300, 360]\n",
    "    g.set_xticks(minutes)\n",
    "\n",
    "    g.spines[['top', 'right']].set_visible(False)\n",
    "    g.spines[['bottom', 'left']].set_alpha(0.25)\n",
    "\n",
    "    for container in g.containers:\n",
    "        g.bar_label(container, df['duration as string'], padding=2)\n",
    "\n",
    "    plt.show()"
   ]
  },
  {
   "cell_type": "code",
   "execution_count": null,
   "metadata": {},
   "outputs": [],
   "source": [
    "def plot_note_sum_len(note_df):\n",
    "    number_of_notes = note_df.groupby(['Piece Name'])['note'].count().reset_index()\n",
    "    number_of_notes.columns = ['Piece Name', 'notes']\n",
    "    length_df = getLengthFrame(note_df, meta_df)[['Piece Name', 'duration in seconds']]\n",
    "    note_sum_len_df = pd.merge(length_df, number_of_notes, on='Piece Name')\n",
    "\n",
    "    note_sum_len_df['Piece Type'] = note_sum_len_df['Piece Name'].apply(lambda x: type_dict[x])\n",
    "    note_sum_len_df['Composer'] = note_sum_len_df['Piece Name'].apply(lambda x: x.split(' ')[0])\n",
    "    note_sum_len_df['Piece Name'] = note_sum_len_df['Piece Name'].apply(lambda x: ' '.join(x.split(' ')[1:]))\n",
    "\n",
    "    def labelplot(x, y, text):\n",
    "        g.text(x+5, y, text, ha='left', va='center', fontsize=10, alpha=0.75)\n",
    "\n",
    "    fig = plt.figure(figsize=(10, 10))\n",
    "    fig.suptitle('Number of Notes vs. Length of Piece')\n",
    "\n",
    "    g = sns.scatterplot(y='notes', x='duration in seconds', hue='Composer', style='Piece Type', palette=composer_colors, s=50, data=note_sum_len_df, linewidth=0.5, edgecolor='gray', legend='full')\n",
    "\n",
    "    minutes = [0, 60, 120, 180, 240, 300, 360]\n",
    "    g.set_xticks(minutes)\n",
    "    g.set_xlabel('Length of piece in seconds')\n",
    "    g.set_ylabel('Number of notes')\n",
    "\n",
    "    g.spines[['top', 'right']].set_visible(False)\n",
    "    g.spines[['bottom', 'left']].set_alpha(0.25)\n",
    "\n",
    "    plt.grid(True, alpha=0.25, linestyle='--', axis='both')\n",
    "    g.set_xlim(left=60)\n",
    "    note_sum_len_df.apply(lambda x: labelplot(x['duration in seconds'], x['notes'], x['Piece Name']), axis=1)\n",
    "    plt.show()"
   ]
  },
  {
   "attachments": {},
   "cell_type": "markdown",
   "metadata": {},
   "source": [
    "# Loading the Dataset\n",
    "\n",
    "The following code block assumes that all of your CSV files are stored in the directory `output`, and in a directory with their filename, as the parser does that. If that is not the case, please adjust the helper function or put all CSV files in a folder structure as such:\n",
    "\n",
    "```\n",
    "output/\n",
    "├─ Bach_846_I/\n",
    "│  ├─ Bach_846_I_meta.csv\n",
    "│  ├─ Bach_846_I_note.csv\n",
    "├─ Bach_847_I/\n",
    "│  ├─ Bach_847_I_meta.csv\n",
    "│  ├─ Bach_847_I_note.csv\n",
    "```\n",
    "\n",
    "The naming convention is as follows:\n",
    "First letter of composer\n",
    "N for Note\n",
    "M for Meta\n",
    "Numbers smushed\n",
    "\n",
    "so Bach_846_I turns into\n",
    "\n",
    "BN846, BM846\n",
    "\n",
    "Liszt's Consolidation 3 turns into\n",
    "LN3, LM3"
   ]
  },
  {
   "cell_type": "code",
   "execution_count": null,
   "metadata": {},
   "outputs": [],
   "source": [
    "if quickload == False:\n",
    "    BN846, BM846 = load_dataset('Bach_846_I')\n",
    "    BN847, BM847 = load_dataset('Bach_847_I')\n",
    "\n",
    "    RN31, RM31 = load_dataset('Rachmaninoff_3_1')\n",
    "    RN32, RM32 = load_dataset('Rachmaninoff_3_2')\n",
    "    RN164, RM164 = load_dataset('Rachmaninoff_16_4')\n",
    "\n",
    "    LN1398, LM1398 = load_dataset('Liszt_139_8')\n",
    "    LN13912, LM13912 = load_dataset('Liszt_139_12')\n",
    "    LN1413, LM1413 = load_dataset('Liszt_141_3')\n",
    "    LN5413, LM5413 = load_dataset('Liszt_541_3')\n",
    "    LN3, LM3 = load_dataset('Liszt_Consolation_3')\n",
    "\n",
    "    CN91, CM91 = load_dataset('Chopin_9_1')\n",
    "    CN92, CM92 = load_dataset('Chopin_9_2')\n",
    "    CN481, CM481 = load_dataset('Chopin_48_1')\n",
    "    CN551, CM551 = load_dataset('Chopin_55_1')\n",
    "\n",
    "    CN104, CM104 = load_dataset('Chopin_10_4')\n",
    "    CN1012, CM1012 = load_dataset('Chopin_10_12')\n",
    "    CN255, CM255 = load_dataset('Chopin_25_5')\n",
    "    CN2512, CM2512 = load_dataset('Chopin_25_12')\n",
    "    \n",
    "else:\n",
    "    RN32, RM32 = load_dataset('Rachmaninoff_3_2')\n",
    "    BN847, BM847 = load_dataset('Bach_847_I')\n",
    "    RN164, RM164 = load_dataset('Rachmaninoff_16_4')\n",
    "    LN13912, LM13912 = load_dataset('Liszt_139_12')\n",
    "    CN481, CM481 = load_dataset('Chopin_48_1')\n",
    "\n"
   ]
  },
  {
   "cell_type": "markdown",
   "metadata": {},
   "source": [
    "# Data Wrangling"
   ]
  },
  {
   "cell_type": "markdown",
   "metadata": {},
   "source": [
    "Rachmanninofs Prelude has shown an anomaly with the amount of hands, as this is a 2H Piece, not for four.\n",
    "To dicern which hand belongs to which hand, we focus on where this anomaly occurs, and try to find out what looks like it should go together"
   ]
  },
  {
   "cell_type": "code",
   "execution_count": null,
   "metadata": {},
   "outputs": [],
   "source": [
    "RN32_copy = RN32[(RN32['time'] > 85000) & (RN32['time'] < 105000)]\n",
    "colors = ['#F98E76', '#21364A', '#FEE6B3', '#407BA5']\n",
    "plt.figure(figsize=(24,12))\n",
    "g = sns.scatterplot(data=RN32_copy, x='time', y='note', hue='hand', palette=colors, s=100)\n",
    "plt.show()"
   ]
  },
  {
   "cell_type": "markdown",
   "metadata": {},
   "source": [
    "It looks like hand 1 and 3 go together, and 0 and 2, so let's fix that"
   ]
  },
  {
   "cell_type": "code",
   "execution_count": null,
   "metadata": {},
   "outputs": [],
   "source": [
    "RN32[RN32['hand'] == \"Right\"] = 0\n",
    "RN32[RN32['hand'] == \"Left\"] = 1"
   ]
  },
  {
   "cell_type": "markdown",
   "metadata": {},
   "source": [
    "Since it still appears to be faulty data, we can't use it here"
   ]
  },
  {
   "cell_type": "code",
   "execution_count": null,
   "metadata": {},
   "outputs": [],
   "source": [
    "if quickload == False:\n",
    "    meta_list = [BM846, BM847, RM31, RM164, LM1398, LM13912, LM1413, LM5413, LM3, CM91, CM92, CM481, CM551, CM104, CM1012, CM255, CM2512]\n",
    "    note_list = [BN846, BN847, RN31, RN164, LN1398, LN13912, LN1413, LN5413, LN3, CN91, CN92, CN481, CN551, CN104, CN1012, CN255, CN2512]\n",
    "\n",
    "    title_set = [\"Bach Prelude in C\", \"Bach Prelude in C Minor\", \"Rachmaninoff Elegie\", \"Rachmaninoff Moment Musicaux Op. 16 No. 4\",\n",
    "                \"Liszt Wilde Jagd\", \"Liszt Chasse-Neige\", \"Liszt La Campanella\", \"Liszt Liebestraum III\", \"Liszt Consolation III\", \"Chopin Nocturne Op. 9 No. 1\",\n",
    "                \"Chopin Nocturne Op. 9 No. 2\", \"Chopin Nocturne Op. 48 No. 1\", \"Chopin Nocturne Op. 55 No. 1\", \"Chopin Torrent Etude Op. 10 No. 4\", \"Chopin Revolutionary Etude Op. 10 No. 12\",\n",
    "                \"Chopin Wrong Note Etude Op. 25 No. 5\", \"Chopin Ocean Etude Op. 25 No. 12\"]\n",
    "\n",
    "else:\n",
    "    meta_list = [BM847, RM164, LM13912, CM481]\n",
    "    note_list = [BN847, RN164, LN13912, CN481]\n",
    "\n",
    "    title_set = [\"Bach Prelude in C Minor\", \"Rachmaninoff Moment Musicaux Op. 16 No. 4\",\n",
    "                \"Liszt Chasse-Neige\", \"Chopin Nocturne Op. 48 No. 1\"]\n",
    "\n",
    "note_dict = dict(zip(title_set, note_list))\n",
    "meta_dict = dict(zip(title_set, meta_list))\n",
    "\n",
    "note_df = pd.concat(note_list, keys=title_set, names=['Piece Name', 'Info'])\n",
    "meta_df = pd.concat(meta_list, keys=title_set, names=['Piece Name', 'Meta'])\n",
    "    "
   ]
  },
  {
   "cell_type": "code",
   "execution_count": null,
   "metadata": {},
   "outputs": [],
   "source": []
  },
  {
   "attachments": {},
   "cell_type": "markdown",
   "metadata": {},
   "source": [
    "# Analyzing Quality"
   ]
  },
  {
   "attachments": {},
   "cell_type": "markdown",
   "metadata": {},
   "source": [
    "In this section I take a look at the dataset I created and use these observations to see what I can plot and what will be harder to plot.\n",
    "\n",
    "hand 0 (blue) typically denotes left-hand (LH)\n",
    "\n",
    "hand 1 (orange) typically denotes right-hand (RH)"
   ]
  },
  {
   "attachments": {},
   "cell_type": "markdown",
   "metadata": {},
   "source": [
    "### Plotting velocity over time\n",
    "\n",
    "In the following code I am plotting velocity on the y-axis over time. I do this to see with what detail the Midi File has been created in attention to dynamics. The following values can be translated to musical notation as such [[1]](https://www.cs.cmu.edu/~music/cmsip/readings/MIDI%20tutorial%20for%20programmers.html):\n",
    "\n",
    "_piano-pianissimo_ = 20  \n",
    "_pianissimo_ = 31  \n",
    "_piano_ = 42  \n",
    "_mezzo-piano_ = 53  \n",
    "_mezzo-forte_ = 64  \n",
    "_forte_ - 80  \n",
    "_fortissimo_ = 96  \n",
    "_fortissimo-forte_ = 112  \n",
    "\n",
    "The first two graphs show a very straight line, indicating that there has been no effort made towards dynamic notation. This is due to the fact that Dynamic notation was not common practice during the Baroque Era. With the exception of Chopin's Nocturne Op. 9 No. 2, it seems that every dynamc has been calculated by software according to cresc. and decresc. markings, e.g. increasing - then constant - then decreasing. \n",
    "\n",
    "The next observation we can make is on Rachmaninoff's Prelude Op. 3 No. 2, here we get 4 hands. I have taken a look at the Midi File in external Software and failed to see a reason why the creator split it up into 4 hands, however, it will be difficult to use this hand for some of the later analysis.\n",
    "\n",
    "The last exception we can see is that Chopin's Nocturne Op. 9 No. 2 has an absurd amount of precision when it comes to the dynamics. I suspect that this is not calculated, but recorded from a person playing it on a piano connected to Midi Software."
   ]
  },
  {
   "cell_type": "code",
   "execution_count": null,
   "metadata": {},
   "outputs": [],
   "source": [
    "note_df['velocity'].groupby('Piece Name').describe()"
   ]
  },
  {
   "cell_type": "code",
   "execution_count": null,
   "metadata": {},
   "outputs": [],
   "source": [
    "for index, (title, df) in enumerate(note_dict.items()):\n",
    "    plot_velocity(df, title)\n",
    "    pass"
   ]
  },
  {
   "attachments": {},
   "cell_type": "markdown",
   "metadata": {},
   "source": [
    "### Plotting notes over time\n",
    "\n",
    "There aren't any clear observations I can make here that would make a lot of sense apart from saying\n",
    "\n",
    "1. Bach's Music *looks* very structured\n",
    "2. Rachmaninoff's and Liszt's Music looks very erratic\n",
    "3. Liszt *really* like Glissando's (a long, continuous chromatic scale)"
   ]
  },
  {
   "cell_type": "code",
   "execution_count": null,
   "metadata": {},
   "outputs": [],
   "source": [
    "for index, (title, df) in enumerate(note_dict.items()):\n",
    "    plot_notes(df, title)\n",
    "    pass\n",
    "\n",
    "plt.show()"
   ]
  },
  {
   "attachments": {},
   "cell_type": "markdown",
   "metadata": {},
   "source": [
    "### What note is being played how often?\n",
    "\n",
    "I was hoping to get any hints here to see which key a piece is in without looking at its Midi Messages, since those are sometimes left out or wrong, but this does _not_ help as much. Having played a couple of these pieces or listened to, these graphs make somewhat sense and aren't very surprising - especially La Campanella's prominent Eb (denoted as D#) here."
   ]
  },
  {
   "cell_type": "code",
   "execution_count": null,
   "metadata": {},
   "outputs": [],
   "source": [
    "for index, (title, df) in enumerate(note_dict.items()):\n",
    "    plot_note_frequency(df, title)\n",
    "    pass\n",
    "\n",
    "plt.show()"
   ]
  },
  {
   "cell_type": "markdown",
   "metadata": {},
   "source": [
    "## Frequency heatmap\n",
    "\n",
    "This was my first attempt at exploring heatmaps, however, they were not only completely inappropriate for this information, they also looked terrible. I found a better use-case later."
   ]
  },
  {
   "cell_type": "code",
   "execution_count": null,
   "metadata": {},
   "outputs": [],
   "source": [
    "plot_note_frequency_heatmap(note_dict, title_set)"
   ]
  },
  {
   "attachments": {},
   "cell_type": "markdown",
   "metadata": {},
   "source": [
    "### Plotting LH RH Distribution\n",
    "\n",
    "Next, I wanted to check if there are maybe any trends in how many notes occur in LH and RH respectively. Again, nothing really here that stands out - It just makes sense that Rachmaninoff's Moment Musicaux and Chopin's Revolutionary Etude have more LH than RH notes, and that the inverse is true for La Campanella, but this just makes sense if you know these pieces"
   ]
  },
  {
   "cell_type": "code",
   "execution_count": null,
   "metadata": {},
   "outputs": [],
   "source": [
    "plot_notes_per_hand(note_df)"
   ]
  },
  {
   "cell_type": "markdown",
   "metadata": {},
   "source": [
    "And a more normed version of this chart here, where I counted chords as a single note, not as multiple."
   ]
  },
  {
   "cell_type": "code",
   "execution_count": null,
   "metadata": {},
   "outputs": [],
   "source": [
    "plot_notes_per_hand_norm(note_df)"
   ]
  },
  {
   "attachments": {},
   "cell_type": "markdown",
   "metadata": {},
   "source": [
    "### Plotting overall notes\n",
    "\n",
    "This is the first time we can see an actual trend or distinction between composers. Liszt Etudes tend to have much more notes than any other piece. Next, the outlier being Chopin's Nocturne Op. 48 No. 1 could be an indication that this nocturne is more difficult than other nocturnes - which is true (difficulty is of course not just determined by the amount of notes - but it can be a pretty good starting point). The amount of notes for the Nocturne is probably only as high because of the final section - the doppio movimento - that is being played at twice the speed. Moving on, they are then followed by \"faster\" pieces, such as Moment Musicaux, the Chopin Etudes, then the Nocturnes and lastly very slow pieces, such as Liszt's Consolation and Bach Prelude in C. The Bach Prelude in C Minor is actually a \"fast\" piece, but also very short.\n",
    "\n",
    "Intuitevely, one could say there is a correlation between Amount of notes and BPM, or Amount of Notes and Piece Length. We will be taking a look at this later on."
   ]
  },
  {
   "cell_type": "code",
   "execution_count": null,
   "metadata": {},
   "outputs": [],
   "source": [
    "plot_overall_notes(note_df)"
   ]
  },
  {
   "attachments": {},
   "cell_type": "markdown",
   "metadata": {},
   "source": [
    "### Plotting average velocity\n",
    "\n",
    "Next, I want to take a look at the average velocity per piece.\n",
    "\n",
    "_piano-pianissimo_ = 20  \n",
    "_pianissimo_ = 31  \n",
    "_piano_ = 42  \n",
    "_mezzo-piano_ = 53  \n",
    "_mezzo-forte_ = 64  \n",
    "_forte_ - 80  \n",
    "_fortissimo_ = 96  \n",
    "_fortissimo-forte_ = 112 \n",
    "\n",
    "#### Initial assumptions\n",
    "1. Nocturnes are in the area below mezzo-piano\n",
    "2. Etudes are above forte\n",
    "\n",
    "As expected, Moment Musicaux and Wilde Jagd, two very \"loud\" pieces are leading in the chart, and that the Nocturne Op. 9 No.2 and Bach's Prelude in C are the softest, along with Liszt's Consolation and Elegie. I would have expected Liebestraum III to be louder."
   ]
  },
  {
   "cell_type": "code",
   "execution_count": null,
   "metadata": {},
   "outputs": [],
   "source": [
    "plot_mean_velocity_bar(note_df)"
   ]
  },
  {
   "cell_type": "code",
   "execution_count": null,
   "metadata": {},
   "outputs": [],
   "source": [
    "plot_boxplot_velocity(note_df)"
   ]
  },
  {
   "cell_type": "markdown",
   "metadata": {},
   "source": [
    "### Stripplots\n",
    "\n",
    "This was also just trying out which chart would be most suitable to represent the average dynamic. I found this one terrible to read, so I didn't bother trying to style it up"
   ]
  },
  {
   "cell_type": "code",
   "execution_count": null,
   "metadata": {},
   "outputs": [],
   "source": [
    "# plot_stripplot_velocity(note_df)"
   ]
  },
  {
   "attachments": {},
   "cell_type": "markdown",
   "metadata": {},
   "source": [
    "### Plotting key changes\n",
    "\n",
    "This is an interesting section. For example, the second diagram contains the key of Eb, but the title clearly says C Minor\n",
    "\n",
    "\"Circle of fifths\"\n",
    "\n",
    "<img src=\"https://upload.wikimedia.org/wikipedia/commons/thumb/3/33/Circle_of_fifths_deluxe_4.svg/2560px-Circle_of_fifths_deluxe_4.svg.png\" width=\"250\" height=\"250\"/>\n",
    "\n",
    "This means that the relative key of C Minor is Eb Major. Such confusions happen more often. In general it seems that there are quite a lot of wrong keys, or missing keys. but if they are present, they beautifully divide the piece into its sections. Let's take a deeper look into that."
   ]
  },
  {
   "cell_type": "code",
   "execution_count": null,
   "metadata": {},
   "outputs": [],
   "source": [
    "plot_notes_velocity_key(note_list, meta_list, title_set)"
   ]
  },
  {
   "attachments": {},
   "cell_type": "markdown",
   "metadata": {},
   "source": [
    "# Analysing span of chords"
   ]
  },
  {
   "cell_type": "markdown",
   "metadata": {},
   "source": [
    "In this section we analyze how many chords there are per span. The span is derived from the distance between the lowest note and the highest note in a chord, so the distance between a C Major Chord with C E G C would be 12. The number of notes in the chord itself are not relevant here"
   ]
  },
  {
   "cell_type": "code",
   "execution_count": null,
   "metadata": {},
   "outputs": [],
   "source": [
    "plot_chord_span(title_set, note_dict)"
   ]
  },
  {
   "cell_type": "markdown",
   "metadata": {},
   "source": [
    "# Analysing number of notes in chords"
   ]
  },
  {
   "cell_type": "markdown",
   "metadata": {},
   "source": [
    "In this section we look at how many chords have how many notes. An Octave F-F would have 2, An A minor chord A-C-E consists of three, for example."
   ]
  },
  {
   "cell_type": "code",
   "execution_count": null,
   "metadata": {},
   "outputs": [],
   "source": [
    "plot_notes_in_chords(title_set, note_dict)"
   ]
  },
  {
   "cell_type": "markdown",
   "metadata": {},
   "source": [
    "# Plotting chord span vs notes in chord"
   ]
  },
  {
   "cell_type": "code",
   "execution_count": null,
   "metadata": {},
   "outputs": [],
   "source": [
    "plot_chord_size_span(title_set, note_dict)"
   ]
  },
  {
   "cell_type": "markdown",
   "metadata": {},
   "source": [
    "# Plotting all chord spans vs notes in chords on average"
   ]
  },
  {
   "cell_type": "code",
   "execution_count": null,
   "metadata": {},
   "outputs": [],
   "source": [
    "plot_chord_size_span_all(note_df)"
   ]
  },
  {
   "cell_type": "markdown",
   "metadata": {},
   "source": [
    "# Regression Fit"
   ]
  },
  {
   "cell_type": "code",
   "execution_count": null,
   "metadata": {},
   "outputs": [],
   "source": [
    "plot_notes_reg(note_dict, title_set)"
   ]
  },
  {
   "cell_type": "markdown",
   "metadata": {},
   "source": [
    "# Chord Recognition"
   ]
  },
  {
   "cell_type": "code",
   "execution_count": null,
   "metadata": {},
   "outputs": [],
   "source": [
    "plot_chords(note_dict, title_set)"
   ]
  },
  {
   "cell_type": "markdown",
   "metadata": {},
   "source": [
    "# Chords per composer"
   ]
  },
  {
   "cell_type": "code",
   "execution_count": null,
   "metadata": {},
   "outputs": [],
   "source": [
    "plot_chords_per_composer(note_df)"
   ]
  },
  {
   "cell_type": "code",
   "execution_count": null,
   "metadata": {},
   "outputs": [],
   "source": [
    "plot_composer_per_chord(note_df)"
   ]
  },
  {
   "cell_type": "markdown",
   "metadata": {},
   "source": [
    "# Velocity heatmap"
   ]
  },
  {
   "cell_type": "code",
   "execution_count": null,
   "metadata": {},
   "outputs": [],
   "source": [
    "plot_velocity_heatmap(note_dict, title_set)"
   ]
  },
  {
   "cell_type": "markdown",
   "metadata": {},
   "source": [
    "# Gantt"
   ]
  },
  {
   "cell_type": "markdown",
   "metadata": {},
   "source": [
    "If you are in development, it is highly advisable to run this in quickload mode, as this will take more than 7 minutes with all pieces. Performance mode disables this plot function"
   ]
  },
  {
   "cell_type": "code",
   "execution_count": null,
   "metadata": {},
   "outputs": [],
   "source": [
    "plot_notes_with_dur(note_dict, title_set)"
   ]
  },
  {
   "cell_type": "markdown",
   "metadata": {},
   "source": [
    "TODO: Recalculating speed"
   ]
  },
  {
   "cell_type": "markdown",
   "metadata": {},
   "source": [
    "# Duration of pieces"
   ]
  },
  {
   "cell_type": "code",
   "execution_count": null,
   "metadata": {},
   "outputs": [],
   "source": [
    "plot_duration_bar(note_df, meta_df)"
   ]
  },
  {
   "cell_type": "markdown",
   "metadata": {},
   "source": [
    "# Duration vs Note Count"
   ]
  },
  {
   "cell_type": "code",
   "execution_count": null,
   "metadata": {},
   "outputs": [],
   "source": [
    "plot_note_sum_len(note_df)"
   ]
  }
 ],
 "metadata": {
  "kernelspec": {
   "display_name": "Python 3",
   "language": "python",
   "name": "python3"
  },
  "language_info": {
   "codemirror_mode": {
    "name": "ipython",
    "version": 3
   },
   "file_extension": ".py",
   "mimetype": "text/x-python",
   "name": "python",
   "nbconvert_exporter": "python",
   "pygments_lexer": "ipython3",
   "version": "3.11.3"
  },
  "orig_nbformat": 4
 },
 "nbformat": 4,
 "nbformat_minor": 2
}
